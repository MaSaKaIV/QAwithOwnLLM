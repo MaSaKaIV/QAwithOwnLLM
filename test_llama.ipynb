{
  "nbformat": 4,
  "nbformat_minor": 0,
  "metadata": {
    "colab": {
      "provenance": [],
      "gpuType": "T4",
      "mount_file_id": "19mRy_NRBSJaHdcEbyU5Ws8Z2q_1JT_GW",
      "authorship_tag": "ABX9TyOTlly0SoIhtMiNvJfNwUwt",
      "include_colab_link": true
    },
    "kernelspec": {
      "name": "python3",
      "display_name": "Python 3"
    },
    "language_info": {
      "name": "python"
    },
    "accelerator": "GPU"
  },
  "cells": [
    {
      "cell_type": "markdown",
      "metadata": {
        "id": "view-in-github",
        "colab_type": "text"
      },
      "source": [
        "<a href=\"https://colab.research.google.com/github/MaSaKaIV/QAwithOwnLLM/blob/main/test_llama.ipynb\" target=\"_parent\"><img src=\"https://colab.research.google.com/assets/colab-badge.svg\" alt=\"Open In Colab\"/></a>"
      ]
    },
    {
      "cell_type": "markdown",
      "source": [
        "# Start up\n",
        "---\n",
        "### Installation"
      ],
      "metadata": {
        "id": "0MZzMRqb5_TT"
      }
    },
    {
      "cell_type": "code",
      "source": [
        "# パッケージのインストール\n",
        "!pip install llama-index\n",
        "!pip install transformers accelerate bitsandbytes\n",
        "!pip install sentencepiece einops sentence_transformers\n",
        "!pip install git+https://github.com/huggingface/peft.git\n",
        "!pip install datasets"
      ],
      "metadata": {
        "id": "Dwm53a_H5jhD"
      },
      "execution_count": null,
      "outputs": []
    },
    {
      "cell_type": "markdown",
      "source": [
        "### LLM"
      ],
      "metadata": {
        "id": "NfOgYt8OHAYU"
      }
    },
    {
      "cell_type": "code",
      "execution_count": null,
      "metadata": {
        "id": "n0O7OzBWN6Gn"
      },
      "outputs": [],
      "source": [
        "from transformers import AutoModelForCausalLM, AutoTokenizer, BitsAndBytesConfig, pipeline\n",
        "from langchain.llms import HuggingFacePipeline\n",
        "import torch\n",
        "\n",
        "model_name = \"stabilityai/japanese-stablelm-base-alpha-7b\"\n",
        "\n",
        "model_kwargs = {\n",
        "    \"trust_remote_code\": True,\n",
        "    \"device_map\": \"auto\",\n",
        "    \"low_cpu_mem_usage\": True,\n",
        "    \"variant\": \"int8\",\n",
        "    \"load_in_8bit\":True\n",
        "}\n",
        "\n",
        "# トークナイザーとモデルの準備\n",
        "tokenizer = AutoTokenizer.from_pretrained(\n",
        "    \"novelai/nerdstash-tokenizer-v1\",\n",
        "    use_fast=False,\n",
        ")\n",
        "model = AutoModelForCausalLM.from_pretrained(\n",
        "    model_name,\n",
        "    **model_kwargs\n",
        ")\n",
        "\n",
        "model.eval()"
      ]
    },
    {
      "cell_type": "markdown",
      "source": [
        "### Embedding Model"
      ],
      "metadata": {
        "id": "WJJsiROB_SUF"
      }
    },
    {
      "cell_type": "code",
      "source": [
        "from langchain.embeddings import HuggingFaceEmbeddings\n",
        "from llama_index import LangchainEmbedding\n",
        "from typing import Any, List\n",
        "\n",
        "# query付きのHuggingFaceEmbeddings\n",
        "class HuggingFaceQueryEmbeddings(HuggingFaceEmbeddings):\n",
        "    def __init__(self, **kwargs: Any):\n",
        "        super().__init__(**kwargs)\n",
        "\n",
        "    def embed_documents(self, texts: List[str]) -> List[List[float]]:\n",
        "        return super().embed_documents([\"query: \" + text for text in texts])\n",
        "\n",
        "    def embed_query(self, text: str) -> List[float]:\n",
        "        return super().embed_query(\"query: \" + text)\n",
        "\n",
        "# 埋め込みモデルの準備\n",
        "embed_model = LangchainEmbedding(\n",
        "    HuggingFaceQueryEmbeddings(model_name=\"intfloat/multilingual-e5-large\")\n",
        ")"
      ],
      "metadata": {
        "id": "Vw8EKabI_R0C"
      },
      "execution_count": null,
      "outputs": []
    },
    {
      "cell_type": "markdown",
      "source": [
        "# Instruction Tuning\n",
        "---\n",
        "### Tokenize datasets"
      ],
      "metadata": {
        "id": "kKd_DiLL5vdH"
      }
    },
    {
      "cell_type": "code",
      "source": [
        "import datasets\n",
        "\n",
        "dataset_name = \"kunishou/databricks-dolly-15k-ja\"\n",
        "dataset = datasets.load_dataset(dataset_name)\n",
        "\n",
        "data_max_length = 512 #VRAM消費量を減らすため512トークンに制限\n",
        "\n",
        "prompt_with_context_format = \"\"\"The following text is the task instruction and the context for it.\n",
        "Write a response that satisfies the instruction based on context.\n",
        "\n",
        "### Instruction:\n",
        "{instruction}\n",
        "\n",
        "### Context:\n",
        "{context}\n",
        "\n",
        "### Response:\n",
        "{response}\n",
        "\"\"\"\n",
        "\n",
        "prompt_no_context_format = \"\"\"The following text is the task instruction.\n",
        "Write a response that satisfies the instruction based on context.\n",
        "\n",
        "### Instruction:\n",
        "{instruction}\n",
        "\n",
        "### Response:\n",
        "{response}\n",
        "\"\"\"\n",
        "\n",
        "def tokenize(samples):\n",
        "    prompts = []\n",
        "\n",
        "    # データセットの instruction 列と input 列と output 列を組み合わせてプロンプトを組み立てます。\n",
        "    for instruction, input, output in zip(samples[\"instruction\"], samples[\"input\"], samples[\"output\"]):\n",
        "        if input:\n",
        "            prompt = prompt_with_context_format.format(instruction=instruction, context=input, response=output)\n",
        "        else:\n",
        "            prompt = prompt_no_context_format.format(instruction=instruction, response=output)\n",
        "        prompts.append(prompt + tokenizer.eos_token)\n",
        "\n",
        "    result = tokenizer(prompts, padding=False, truncation=True, max_length=data_max_length)\n",
        "    return result\n",
        "\n",
        "dataset = dataset.map(lambda samples: tokenize(samples), batched=True)"
      ],
      "metadata": {
        "id": "YB3L3Mxb52ow"
      },
      "execution_count": null,
      "outputs": []
    },
    {
      "cell_type": "markdown",
      "source": [
        "### Tuning"
      ],
      "metadata": {
        "id": "I4O1m8Lg8zbz"
      }
    },
    {
      "cell_type": "code",
      "source": [
        "# ベースモデルをフリーズ\n",
        "\n",
        "for param in model.parameters():\n",
        "    param.requires_grad = False\n",
        "    if param.ndim == 1:\n",
        "        param.data = param.data.to(torch.float32)\n",
        "\n",
        "# VRAM消費量を節約するための調整\n",
        "\n",
        "model.gradient_checkpointing_enable()\n",
        "\n",
        "model.enable_input_require_grads()\n",
        "\n",
        "class CastOutputToFloat(torch.nn.Sequential):\n",
        "   def forward(self, x):\n",
        "      return super().forward(x).to(torch.float32)\n",
        "\n",
        "model.embed_out = CastOutputToFloat(model.embed_out)\n",
        "\n",
        "print(model)"
      ],
      "metadata": {
        "id": "eO0-Rzu38OSG"
      },
      "execution_count": null,
      "outputs": []
    },
    {
      "cell_type": "markdown",
      "source": [
        "### Train"
      ],
      "metadata": {
        "id": "zBUS8hCP87KZ"
      }
    },
    {
      "cell_type": "code",
      "source": [
        "# PEFTを用いたLoRA学習の設定\n",
        "\n",
        "import peft\n",
        "from transformers import TrainingArguments, DataCollatorForLanguageModeling, Trainer\n",
        "\n",
        "peft_config = peft.LoraConfig(\n",
        "    r=32,\n",
        "    lora_alpha=64,\n",
        "    target_modules=[\"query_key_value\"],\n",
        "    lora_dropout=0.05,\n",
        "    bias=\"none\",\n",
        "    fan_in_fan_out=False,\n",
        "    task_type=peft.TaskType.CAUSAL_LM\n",
        ")\n",
        "model = peft.get_peft_model(model, peft_config)\n",
        "\n",
        "model.print_trainable_parameters()\n",
        "\n",
        "# 学習\n",
        "\n",
        "training_args = TrainingArguments(\n",
        "    per_device_train_batch_size=1,\n",
        "    gradient_accumulation_steps=4,\n",
        "    warmup_steps=20,\n",
        "    max_steps=200,\n",
        "    learning_rate=2e-4,\n",
        "    fp16=True,\n",
        "    num_train_epochs=1,\n",
        "    save_strategy=\"steps\",\n",
        "    save_steps=50,\n",
        "    save_total_limit=10,\n",
        "    output_dir=\".checkpoints\",\n",
        "    evaluation_strategy=\"no\",\n",
        "    logging_dir=\"logs\",\n",
        "    logging_steps=25,\n",
        "    gradient_checkpointing=True,\n",
        "    push_to_hub=False\n",
        ")\n",
        "\n",
        "data_collator = DataCollatorForLanguageModeling(tokenizer, mlm=False)\n",
        "\n",
        "trainer = Trainer(\n",
        "    model=model,\n",
        "    train_dataset=dataset[\"train\"],\n",
        "    args=training_args,\n",
        "    data_collator=data_collator,\n",
        ")\n",
        "\n",
        "model.config.use_cache = False\n",
        "\n",
        "# 学習を途中から再開する場合はここへチェックポイント名を記入します。\n",
        "checkpoint = None\n",
        "# checkpoint = \"checkpoint-100\"\n",
        "\n",
        "trainer.train(checkpoint)\n",
        "\n",
        "model.save_pretrained(\"output\")"
      ],
      "metadata": {
        "id": "_3mrdmJo8TNF"
      },
      "execution_count": null,
      "outputs": []
    },
    {
      "cell_type": "markdown",
      "source": [
        "### Wrap llama custom LLM class"
      ],
      "metadata": {
        "id": "QmZFJc2w-Bxv"
      }
    },
    {
      "cell_type": "code",
      "source": [
        "import torch\n",
        "from transformers import pipeline\n",
        "from typing import Optional, List, Mapping, Any\n",
        "\n",
        "from llama_index import (\n",
        "    ServiceContext,\n",
        "    SimpleDirectoryReader,\n",
        "    LangchainEmbedding,\n",
        "    ListIndex\n",
        ")\n",
        "from llama_index.callbacks import CallbackManager\n",
        "from llama_index.llms import (\n",
        "    CustomLLM,\n",
        "    CompletionResponse,\n",
        "    CompletionResponseGen,\n",
        "    LLMMetadata,\n",
        ")\n",
        "from llama_index.llms.base import llm_completion_callback\n",
        "\n",
        "# set context window size\n",
        "context_window = 2048\n",
        "# set number of output tokens\n",
        "num_output = 256\n",
        "\n",
        "class OurLLM(CustomLLM):\n",
        "\n",
        "    @property\n",
        "    def metadata(self) -> LLMMetadata:\n",
        "        \"\"\"Get LLM metadata.\"\"\"\n",
        "        return LLMMetadata(\n",
        "            context_window=context_window,\n",
        "            num_output=num_output,\n",
        "            model_name=model_name\n",
        "        )\n",
        "\n",
        "    @llm_completion_callback()\n",
        "    def complete(self, prompt: str, **kwargs: Any) -> CompletionResponse:\n",
        "        tokens = model.generate(\n",
        "            input_ids=torch.tensor([\"input_ids\"]).to(device=model.device),\n",
        "            max_new_tokens=128,\n",
        "            temperature=0.8,\n",
        "            top_p=0.9,\n",
        "            do_sample=True,\n",
        "            pad_token_id=tokenizer.pad_token_id,\n",
        "        )\n",
        "\n",
        "        text = tokenizer.decode(tokens[0], skip_special_tokens=False)\n",
        "        return CompletionResponse(text=text)\n",
        "\n",
        "    @llm_completion_callback()\n",
        "    def stream_complete(self, prompt: str, **kwargs: Any) -> CompletionResponseGen:\n",
        "        raise NotImplementedError()\n",
        "\n",
        "llm = OurLLM()"
      ],
      "metadata": {
        "id": "Y4yyfV_c-Nxj"
      },
      "execution_count": null,
      "outputs": []
    },
    {
      "cell_type": "markdown",
      "source": [],
      "metadata": {
        "id": "ZE1GE7xcEtjc"
      }
    },
    {
      "cell_type": "markdown",
      "source": [
        "# Predict\n",
        "---\n",
        "### Load Documents"
      ],
      "metadata": {
        "id": "Q53ehEtQCjue"
      }
    },
    {
      "cell_type": "code",
      "source": [
        "import os\n",
        "from langchain.document_loaders import PyPDFLoader\n",
        "\n",
        "data_folder = \"./data/\"\n",
        "loader = PyPDFLoader(os.path.join(data_folder, \"sample.pdf\"))\n",
        "documents = loader.load_and_split()"
      ],
      "metadata": {
        "id": "ZMvvCLv_FEab"
      },
      "execution_count": null,
      "outputs": []
    },
    {
      "cell_type": "markdown",
      "source": [
        "### Node Parser"
      ],
      "metadata": {
        "id": "h9AsFzQAFTht"
      }
    },
    {
      "cell_type": "code",
      "source": [
        "from langchain.text_splitter import RecursiveCharacterTextSplitter\n",
        "from llama_index.node_parser import SimpleNodeParser\n",
        "\n",
        "# チャンクの分割\n",
        "text_splitter = RecursiveCharacterTextSplitter(\n",
        "    chunk_size=514-7,  # チャンクの最大文字数\n",
        "    chunk_overlap=20,  # オーバーラップの最大文字数\n",
        ")\n",
        "\n",
        "# ノードパーサーの準備\n",
        "node_parser = SimpleNodeParser(text_splitter=text_splitter)"
      ],
      "metadata": {
        "id": "Whtf2ayTEzvG"
      },
      "execution_count": null,
      "outputs": []
    },
    {
      "cell_type": "markdown",
      "source": [
        "### Service Context"
      ],
      "metadata": {
        "id": "bVW1yCONE6LZ"
      }
    },
    {
      "cell_type": "code",
      "source": [
        "from llama_index import ServiceContext\n",
        "\n",
        "# サービスコンテキストの準備\n",
        "service_context = ServiceContext.from_defaults(\n",
        "    llm=llm,\n",
        "    embed_model=embed_model,\n",
        "    node_parser=node_parser,\n",
        ")"
      ],
      "metadata": {
        "id": "U5uBypw1Csug"
      },
      "execution_count": null,
      "outputs": []
    },
    {
      "cell_type": "markdown",
      "source": [
        "### Make Index"
      ],
      "metadata": {
        "id": "O1809d4bC2CX"
      }
    },
    {
      "cell_type": "code",
      "source": [
        "from llama_index import VectorStoreIndex\n",
        "\n",
        "# インデックスの作成\n",
        "index = VectorStoreIndex.from_documents(\n",
        "    documents,\n",
        "    service_context=service_context,\n",
        ")"
      ],
      "metadata": {
        "id": "7TDo0o74C4OF"
      },
      "execution_count": null,
      "outputs": []
    },
    {
      "cell_type": "markdown",
      "source": [
        "### QA Template"
      ],
      "metadata": {
        "id": "G6pJ0dloC6oM"
      }
    },
    {
      "cell_type": "code",
      "source": [
        "from llama_index.prompts.prompts import QuestionAnswerPrompt\n",
        "\n",
        "# QAテンプレートの準備\n",
        "qa_template = QuestionAnswerPrompt(\"\"\"以下は、タスクを説明する指示と、文脈のある入力の組み合わせです。要求を適切に満たす応答を書きなさい。\n",
        "\n",
        "### 指示:\n",
        "{query_str}\n",
        "\n",
        "### 入力:\n",
        "{context_str}\n",
        "\n",
        "### 応答:\n",
        "\"\"\")"
      ],
      "metadata": {
        "id": "HuurTmX9C_eM"
      },
      "execution_count": null,
      "outputs": []
    },
    {
      "cell_type": "markdown",
      "source": [
        "### Question and Answer session"
      ],
      "metadata": {
        "id": "7YjLAZ-QDCli"
      }
    },
    {
      "cell_type": "code",
      "source": [
        "# クエリエンジンの作成\n",
        "query_engine = index.as_query_engine(\n",
        "    similarity_top_k=3,\n",
        "    text_qa_template=qa_template,\n",
        ")\n",
        "\n",
        "# 質問応答\n",
        "query_engine.query(\"クラウドセキュリティについて50文字でまとめて\")"
      ],
      "metadata": {
        "id": "ycGLyxqEDK9P"
      },
      "execution_count": null,
      "outputs": []
    }
  ]
}